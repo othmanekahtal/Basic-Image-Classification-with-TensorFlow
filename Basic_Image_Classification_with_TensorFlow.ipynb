{
  "nbformat": 4,
  "nbformat_minor": 0,
  "metadata": {
    "colab": {
      "name": "Basic Image Classification with TensorFlow.ipynb",
      "provenance": [],
      "collapsed_sections": [],
      "toc_visible": true
    },
    "kernelspec": {
      "display_name": "Python 3",
      "name": "python3"
    },
    "language_info": {
      "name": "python"
    }
  },
  "cells": [
    {
      "cell_type": "code",
      "metadata": {
        "colab": {
          "background_save": true
        },
        "id": "eWamKH3cqn67"
      },
      "source": [
        "import tensorflow as tf"
      ],
      "execution_count": null,
      "outputs": []
    },
    {
      "cell_type": "markdown",
      "metadata": {
        "id": "Zr2sDua8q3jP"
      },
      "source": [
        "# import dataset : mnist"
      ]
    },
    {
      "cell_type": "code",
      "metadata": {
        "colab": {
          "background_save": true
        },
        "id": "-JeHixXEq-Gn"
      },
      "source": [
        "from tensorflow.keras.datasets import mnist\n",
        "(x_train,x_test),(y_train,y_test) = mnist.load_data()"
      ],
      "execution_count": null,
      "outputs": []
    },
    {
      "cell_type": "code",
      "metadata": {
        "colab": {
          "base_uri": "https://localhost:8080/"
        },
        "id": "EL1-ZXc7sAjS",
        "outputId": "b48072b9-6094-43b2-feae-09bda642704d"
      },
      "source": [
        "print(f'x_train shape : {x_train.shape}\\ny_train shape : {y_train.shape} \\nx_test shape : {x_test.shape} \\ny_test {y_test.shape}')"
      ],
      "execution_count": 15,
      "outputs": [
        {
          "output_type": "stream",
          "text": [
            "x_train shape : (60000, 28, 28)\n",
            "y_train shape : (10000, 28, 28) \n",
            "x_test shape : (60000,) \n",
            "y_test (10000,)\n"
          ],
          "name": "stdout"
        }
      ]
    },
    {
      "cell_type": "markdown",
      "metadata": {
        "id": "WL21rSVIv3aq"
      },
      "source": [
        "# Plot an example in dataset using matblotlib :"
      ]
    },
    {
      "cell_type": "code",
      "metadata": {
        "colab": {
          "background_save": true,
          "base_uri": "https://localhost:8080/",
          "height": 265
        },
        "id": "bLaAMl9Vv8ym",
        "outputId": "97be997e-925e-4818-d7f8-2bebd23e8d73"
      },
      "source": [
        "import matplotlib.pyplot as plt\n",
        "%matplotlib inline\n",
        "plt.imshow(x_train[134],cmap='binary')\n",
        "plt.show()"
      ],
      "execution_count": null,
      "outputs": [
        {
          "data": {
            "image/png": "[encoded data removed]",
            "text/plain": [
              "<Figure size 432x288 with 1 Axes>"
            ]
          },
          "metadata": {},
          "output_type": "display_data"
        }
      ]
    },
    {
      "cell_type": "code",
      "metadata": {
        "colab": {
          "background_save": true
        },
        "id": "G521JVXcyi25"
      },
      "source": [
        "print(x_test[134])"
      ],
      "execution_count": null,
      "outputs": []
    },
    {
      "cell_type": "markdown",
      "metadata": {
        "id": "iKb8nmcxzyO5"
      },
      "source": [
        "# One Hot Encoding :"
      ]
    },
    {
      "cell_type": "code",
      "metadata": {
        "id": "HIxpmcYFz8EC"
      },
      "source": [
        "from tensorflow.keras.utils import to_categorical\n",
        "y_test_encoded = to_categorical(y_test)\n",
        "x_test_encoded = to_categorical(x_test)"
      ],
      "execution_count": 14,
      "outputs": []
    },
    {
      "cell_type": "code",
      "metadata": {
        "colab": {
          "base_uri": "https://localhost:8080/"
        },
        "id": "W97AvdDI3Y2B",
        "outputId": "dc92834c-952b-4920-bc0a-a2b290e44408"
      },
      "source": [
        "print(f'{x_test[1]} == {x_test_encoded[1]}')"
      ],
      "execution_count": 13,
      "outputs": [
        {
          "output_type": "stream",
          "text": [
            "0 == [1. 0. 0. 0. 0. 0. 0. 0. 0. 0.]\n"
          ],
          "name": "stdout"
        }
      ]
    },
    {
      "cell_type": "markdown",
      "metadata": {
        "id": "zV8oR4hNpXU_"
      },
      "source": [
        ""
      ]
    },
    {
      "cell_type": "markdown",
      "metadata": {
        "id": "bK5EAXnkpMfR"
      },
      "source": [
        "# **preprocessing dataset :**"
      ]
    },
    {
      "cell_type": "code",
      "metadata": {
        "id": "BdVtGeewp8Tm"
      },
      "source": [
        "import numpy as np"
      ],
      "execution_count": 25,
      "outputs": []
    },
    {
      "cell_type": "code",
      "metadata": {
        "id": "0qOUyfeQqGBv"
      },
      "source": [
        "x_train_reshaped = np.reshape(x_train,(60000,784))\n",
        "y_train_reshaped = np.reshape(y_train,(10000,784))"
      ],
      "execution_count": 26,
      "outputs": []
    },
    {
      "cell_type": "code",
      "metadata": {
        "colab": {
          "base_uri": "https://localhost:8080/"
        },
        "id": "HDQxbhayqihx",
        "outputId": "5ee3b852-0c82-4450-f68f-9af155e90f76"
      },
      "source": [
        "print(f'the shape of the x train {x_train_reshaped.shape} ,and the shape of the y_train is {y_train_reshaped.shape}')"
      ],
      "execution_count": 27,
      "outputs": [
        {
          "output_type": "stream",
          "text": [
            "the shape of the x train (60000, 784) ,and the shape of the y_train is (10000, 784)\n"
          ],
          "name": "stdout"
        }
      ]
    },
    {
      "cell_type": "markdown",
      "metadata": {
        "id": "HzCfAqMvpz71"
      },
      "source": [
        "## data normalization :"
      ]
    },
    {
      "cell_type": "code",
      "metadata": {
        "colab": {
          "base_uri": "https://localhost:8080/"
        },
        "id": "8iMgb5tmrNfc",
        "outputId": "6b78ae23-592b-4de8-d832-61e2e01c5f01"
      },
      "source": [
        "x_mean = np.mean(x_train_reshaped)\n",
        "x_std = np.std(x_train_reshaped)\n",
        "epsilon = 1e-10\n",
        "print(x_mean,x_std,epsilon)"
      ],
      "execution_count": 39,
      "outputs": [
        {
          "output_type": "stream",
          "text": [
            "33.318421449829934 78.56748998339798 1e-10\n"
          ],
          "name": "stdout"
        }
      ]
    },
    {
      "cell_type": "code",
      "metadata": {
        "id": "TWlA7E2vscuh"
      },
      "source": [
        "x_train_norm = (x_train_reshaped-x_mean)/(x_std+epsilon)\n",
        "y_train_norm = (y_train_reshaped-x_mean)/(x_std+epsilon)"
      ],
      "execution_count": 43,
      "outputs": []
    },
    {
      "cell_type": "code",
      "metadata": {
        "colab": {
          "base_uri": "https://localhost:8080/"
        },
        "id": "k6dArEpMtMoC",
        "outputId": "e31aa702-dfbf-4469-e1f9-908399cb0fa7"
      },
      "source": [
        "print(set(x_train_norm[0]))"
      ],
      "execution_count": 46,
      "outputs": [
        {
          "output_type": "stream",
          "text": [
            "{-0.38589016215482896, 1.306921966983251, 1.17964285952926, 1.803310486053816, 1.6887592893452241, 2.8215433456857437, 2.719720059722551, 1.1923707702746593, 1.7396709323268205, 2.057868700961798, 2.3633385588513764, 2.096052433197995, 1.7651267538176187, 2.7960875241949457, 2.7451758812133495, 2.45243393406917, 0.02140298169794222, -0.22042732246464067, 1.2305545025108566, 0.2759611966059242, 2.210603629906587, 2.6560805059955555, 2.6051688630139593, -0.4240738943910262, 0.4668798577869107, 0.1486820891519332, 0.3905123933145161, 1.0905474843114664, -0.09314821501064967, 1.4851127174188385, 2.7579037919587486, 1.5360243604004349, 0.07231462467953861, -0.13133194724684696, 1.294194056237852, 0.03413089244334132, 1.3451056992194483, 2.274243183633583, -0.24588314395543887, 0.772349715676489, 0.75962180493109, 0.7214380726948927, 0.1995937321335296, -0.41134598364562713, 0.5687031437501034, 0.5941589652409017, 0.9378125553666773, 0.9505404661120763, 0.6068868759863008, 0.4159682148053143, -0.042236572029053274, 2.7706317027041476, 2.1342361654341926, 0.12322626766113501, -0.08042030426525057, 0.16140999989733232, 1.8924058612716097, 1.2560103240016547, 2.185147808415789, 0.6196147867316999, 1.943317504253206, -0.11860403650144787, -0.30952269768243434, 1.9942291472348024, -0.2840668761916362, 2.6306246845047574, 2.286971094378982, -0.19497150097384247, -0.39861807290022805, 0.2886891073513233, 1.7523988430722195, 2.3887943803421745, 2.681536327486354, 1.4596568959280403, 2.439706023323771, 2.7833596134495466, 2.490617666305367, -0.10587612575604877, 1.5614801818912332, 1.9051337720170087, 1.6123918248728295, 1.268738234747054, 1.9560454149986053, 2.6433525952501564, 1.026907930584471}\n"
          ],
          "name": "stdout"
        }
      ]
    },
    {
      "cell_type": "markdown",
      "metadata": {
        "id": "fFF_Ywtb4KQY"
      },
      "source": [
        "# create model :"
      ]
    },
    {
      "cell_type": "code",
      "metadata": {
        "id": "DJ0MRFWP4Nky"
      },
      "source": [
        "from tensorflow.keras.models import Sequential\n",
        "from tensorflow.keras.layers import Dense"
      ],
      "execution_count": 47,
      "outputs": []
    },
    {
      "cell_type": "code",
      "metadata": {
        "id": "kHhwc4eq4mQ9"
      },
      "source": [
        "model  = Sequential([\n",
        "     Dense(128,activation='relu',input_shape = (784,)),\n",
        "     Dense(128,activation='relu'),\n",
        "     Dense(10,activation='softmax')\n",
        "])"
      ],
      "execution_count": 50,
      "outputs": []
    },
    {
      "cell_type": "code",
      "metadata": {
        "id": "O6QBLEu9_N6X"
      },
      "source": [
        "model.compile(\n",
        "    optimizer='sgd',\n",
        "    loss='categorical_crossentropy',\n",
        "    metrics=['accuracy']\n",
        ")\n"
      ],
      "execution_count": 54,
      "outputs": []
    },
    {
      "cell_type": "code",
      "metadata": {
        "colab": {
          "base_uri": "https://localhost:8080/"
        },
        "id": "4wz5p45d_hkA",
        "outputId": "c43a5114-d629-4199-c68a-b64489998084"
      },
      "source": [
        "model.summary()"
      ],
      "execution_count": 53,
      "outputs": [
        {
          "output_type": "stream",
          "text": [
            "Model: \"sequential\"\n",
            "_________________________________________________________________\n",
            "Layer (type)                 Output Shape              Param #   \n",
            "=================================================================\n",
            "dense_4 (Dense)              (None, 128)               100480    \n",
            "_________________________________________________________________\n",
            "dense_5 (Dense)              (None, 128)               16512     \n",
            "_________________________________________________________________\n",
            "dense_6 (Dense)              (None, 10)                1290      \n",
            "=================================================================\n",
            "Total params: 118,282\n",
            "Trainable params: 118,282\n",
            "Non-trainable params: 0\n",
            "_________________________________________________________________\n"
          ],
          "name": "stdout"
        }
      ]
    },
    {
      "cell_type": "markdown",
      "metadata": {
        "id": "I8yxjfhkCcL3"
      },
      "source": [
        "# train and evaluate the model :"
      ]
    },
    {
      "cell_type": "code",
      "metadata": {
        "colab": {
          "base_uri": "https://localhost:8080/"
        },
        "id": "VCoHJ_ZwCgpE",
        "outputId": "216369f4-be00-4d24-a61c-bcf31e4c3fab"
      },
      "source": [
        "model.fit(x_train_norm,x_test_encoded,epochs=6)"
      ],
      "execution_count": 56,
      "outputs": [
        {
          "output_type": "stream",
          "text": [
            "Epoch 1/6\n",
            "1875/1875 [==============================] - 3s 2ms/step - loss: 0.1138 - accuracy: 0.9672\n",
            "Epoch 2/6\n",
            "1875/1875 [==============================] - 3s 2ms/step - loss: 0.0967 - accuracy: 0.9714\n",
            "Epoch 3/6\n",
            "1875/1875 [==============================] - 3s 2ms/step - loss: 0.0831 - accuracy: 0.9757\n",
            "Epoch 4/6\n",
            "1875/1875 [==============================] - 3s 2ms/step - loss: 0.0730 - accuracy: 0.9784\n",
            "Epoch 5/6\n",
            "1875/1875 [==============================] - 3s 2ms/step - loss: 0.0639 - accuracy: 0.9815\n",
            "Epoch 6/6\n",
            "1875/1875 [==============================] - 3s 2ms/step - loss: 0.0570 - accuracy: 0.9830\n"
          ],
          "name": "stdout"
        },
        {
          "output_type": "execute_result",
          "data": {
            "text/plain": [
              "<keras.callbacks.History at 0x7f33a0faa690>"
            ]
          },
          "metadata": {},
          "execution_count": 56
        }
      ]
    },
    {
      "cell_type": "code",
      "metadata": {
        "colab": {
          "base_uri": "https://localhost:8080/"
        },
        "id": "4aejYMhNGWTv",
        "outputId": "345fc9f8-eaae-49d1-9c8c-fdba828ed4c9"
      },
      "source": [
        "loss,accuracy = model.evaluate(y_train_norm,y_test_encoded)"
      ],
      "execution_count": 57,
      "outputs": [
        {
          "output_type": "stream",
          "text": [
            "313/313 [==============================] - 1s 1ms/step - loss: 0.0891 - accuracy: 0.9734\n"
          ],
          "name": "stdout"
        }
      ]
    },
    {
      "cell_type": "code",
      "metadata": {
        "colab": {
          "base_uri": "https://localhost:8080/"
        },
        "id": "yTV3agQCGeGM",
        "outputId": "bf248c94-0c7a-464c-cb84-322ff554c2dc"
      },
      "source": [
        "print(f'The Accuracy of The model is : {round(accuracy*100,2)}%')"
      ],
      "execution_count": 65,
      "outputs": [
        {
          "output_type": "stream",
          "text": [
            "The Accuracy of The model is : 97.34%\n"
          ],
          "name": "stdout"
        }
      ]
    },
    {
      "cell_type": "markdown",
      "metadata": {
        "id": "HmhdirrkJWZm"
      },
      "source": [
        "# predictions :"
      ]
    },
    {
      "cell_type": "code",
      "metadata": {
        "id": "wskNBogvJc6t"
      },
      "source": [
        "preds = model.predict(x_train_norm)"
      ],
      "execution_count": 66,
      "outputs": []
    },
    {
      "cell_type": "code",
      "metadata": {
        "colab": {
          "base_uri": "https://localhost:8080/"
        },
        "id": "kXzdopu_Jkgf",
        "outputId": "9a9d6afc-db34-4f96-b726-70009a369c2a"
      },
      "source": [
        "print('The shape of the preds {}'.format(preds.shape))"
      ],
      "execution_count": 68,
      "outputs": [
        {
          "output_type": "stream",
          "text": [
            "The shape of the preds (60000, 10)\n"
          ],
          "name": "stdout"
        }
      ]
    },
    {
      "cell_type": "markdown",
      "metadata": {
        "id": "zX6YTBD7J0iQ"
      },
      "source": [
        "## plot the result :\n"
      ]
    },
    {
      "cell_type": "code",
      "metadata": {
        "colab": {
          "base_uri": "https://localhost:8080/",
          "height": 697
        },
        "id": "h40RQQcgJ5Dj",
        "outputId": "8ebcb241-a645-44c7-8e73-a90ae744b0bd"
      },
      "source": [
        "plt.figure(figsize=(12,12))\n",
        "\n",
        "start_index = 0\n",
        "\n",
        "for i in range(25):\n",
        "\n",
        "  plt.subplot(5,5,i+1)\n",
        "  plt.grid(False)\n",
        "  plt.xticks([])\n",
        "  plt.yticks([])\n",
        "\n",
        "  pred = np.argmax(preds[start_index+i])\n",
        "  gt = x_test[start_index+i]\n",
        "  col = 'g'\n",
        "  if gt!=pred:col='r'\n",
        "  plt.xlabel(f'i={i+1},pred={pred},gt={gt}',color = col)\n",
        "  plt.imshow(x_train[start_index+i],cmap='binary')\n",
        "\n",
        "plt.show()"
      ],
      "execution_count": 73,
      "outputs": [
        {
          "output_type": "display_data",
          "data": {
            "image/png": "[encoded data removed]",
            "text/plain": [
              "<Figure size 864x864 with 25 Axes>"
            ]
          },
          "metadata": {}
        }
      ]
    },
    {
      "cell_type": "code",
      "metadata": {
        "colab": {
          "base_uri": "https://localhost:8080/",
          "height": 265
        },
        "id": "KTXiBjpOM_KU",
        "outputId": "5d4b643f-ea8c-4ba8-8bca-dfe74ae3aae9"
      },
      "source": [
        "plt.plot(preds[0])\n",
        "plt.show()\n",
        "# the max propability is 5"
      ],
      "execution_count": 77,
      "outputs": [
        {
          "output_type": "display_data",
          "data": {
            "image/png": "[encoded data removed]",
            "text/plain": [
              "<Figure size 432x288 with 1 Axes>"
            ]
          },
          "metadata": {
            "needs_background": "light"
          }
        }
      ]
    }
  ]
}